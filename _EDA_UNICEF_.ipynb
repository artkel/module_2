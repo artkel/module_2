{
 "cells": [
  {
   "cell_type": "code",
   "execution_count": 232,
   "metadata": {},
   "outputs": [],
   "source": [
    "import pandas as pd\n",
    "import numpy as np\n",
    "import matplotlib.pyplot as plt\n",
    "import seaborn as sns\n",
    "from itertools import combinations\n",
    "from scipy.stats import ttest_ind\n",
    "from numpy.random import choice\n",
    "\n",
    "import warnings\n",
    "warnings.filterwarnings('ignore')"
   ]
  },
  {
   "cell_type": "code",
   "execution_count": 655,
   "metadata": {},
   "outputs": [],
   "source": [
    "pd.set_option('display.max_columns', 200)\n",
    "pd.set_option('display.max_rows', 100)\n",
    "pd.set_option('display.min_rows', 100)\n",
    "pd.set_option('display.expand_frame_repr', True)"
   ]
  },
  {
   "cell_type": "code",
   "execution_count": 656,
   "metadata": {},
   "outputs": [],
   "source": [
    "df = pd.read_csv('stud_math.csv', encoding=\"utf-8\")"
   ]
  },
  {
   "cell_type": "markdown",
   "metadata": {},
   "source": [
    "## Первичный осмотр данных"
   ]
  },
  {
   "cell_type": "code",
   "execution_count": 657,
   "metadata": {},
   "outputs": [
    {
     "data": {
      "text/html": [
       "<div>\n",
       "<style scoped>\n",
       "    .dataframe tbody tr th:only-of-type {\n",
       "        vertical-align: middle;\n",
       "    }\n",
       "\n",
       "    .dataframe tbody tr th {\n",
       "        vertical-align: top;\n",
       "    }\n",
       "\n",
       "    .dataframe thead th {\n",
       "        text-align: right;\n",
       "    }\n",
       "</style>\n",
       "<table border=\"1\" class=\"dataframe\">\n",
       "  <thead>\n",
       "    <tr style=\"text-align: right;\">\n",
       "      <th></th>\n",
       "      <th>school</th>\n",
       "      <th>sex</th>\n",
       "      <th>age</th>\n",
       "      <th>address</th>\n",
       "      <th>famsize</th>\n",
       "      <th>Pstatus</th>\n",
       "      <th>Medu</th>\n",
       "      <th>Fedu</th>\n",
       "      <th>Mjob</th>\n",
       "      <th>Fjob</th>\n",
       "      <th>reason</th>\n",
       "      <th>guardian</th>\n",
       "      <th>traveltime</th>\n",
       "      <th>studytime</th>\n",
       "      <th>failures</th>\n",
       "      <th>schoolsup</th>\n",
       "      <th>famsup</th>\n",
       "      <th>paid</th>\n",
       "      <th>activities</th>\n",
       "      <th>nursery</th>\n",
       "      <th>studytime, granular</th>\n",
       "      <th>higher</th>\n",
       "      <th>internet</th>\n",
       "      <th>romantic</th>\n",
       "      <th>famrel</th>\n",
       "      <th>freetime</th>\n",
       "      <th>goout</th>\n",
       "      <th>health</th>\n",
       "      <th>absences</th>\n",
       "      <th>score</th>\n",
       "    </tr>\n",
       "  </thead>\n",
       "  <tbody>\n",
       "    <tr>\n",
       "      <th>0</th>\n",
       "      <td>GP</td>\n",
       "      <td>F</td>\n",
       "      <td>18</td>\n",
       "      <td>U</td>\n",
       "      <td>NaN</td>\n",
       "      <td>A</td>\n",
       "      <td>4.0</td>\n",
       "      <td>4.0</td>\n",
       "      <td>at_home</td>\n",
       "      <td>teacher</td>\n",
       "      <td>course</td>\n",
       "      <td>mother</td>\n",
       "      <td>2.0</td>\n",
       "      <td>2.0</td>\n",
       "      <td>0.0</td>\n",
       "      <td>yes</td>\n",
       "      <td>no</td>\n",
       "      <td>no</td>\n",
       "      <td>no</td>\n",
       "      <td>yes</td>\n",
       "      <td>-6.0</td>\n",
       "      <td>yes</td>\n",
       "      <td>NaN</td>\n",
       "      <td>no</td>\n",
       "      <td>4.0</td>\n",
       "      <td>3.0</td>\n",
       "      <td>4.0</td>\n",
       "      <td>3.0</td>\n",
       "      <td>6.0</td>\n",
       "      <td>30.0</td>\n",
       "    </tr>\n",
       "    <tr>\n",
       "      <th>1</th>\n",
       "      <td>GP</td>\n",
       "      <td>F</td>\n",
       "      <td>17</td>\n",
       "      <td>U</td>\n",
       "      <td>GT3</td>\n",
       "      <td>NaN</td>\n",
       "      <td>1.0</td>\n",
       "      <td>1.0</td>\n",
       "      <td>at_home</td>\n",
       "      <td>other</td>\n",
       "      <td>course</td>\n",
       "      <td>father</td>\n",
       "      <td>1.0</td>\n",
       "      <td>2.0</td>\n",
       "      <td>0.0</td>\n",
       "      <td>no</td>\n",
       "      <td>yes</td>\n",
       "      <td>no</td>\n",
       "      <td>no</td>\n",
       "      <td>no</td>\n",
       "      <td>-6.0</td>\n",
       "      <td>yes</td>\n",
       "      <td>yes</td>\n",
       "      <td>no</td>\n",
       "      <td>5.0</td>\n",
       "      <td>3.0</td>\n",
       "      <td>3.0</td>\n",
       "      <td>3.0</td>\n",
       "      <td>4.0</td>\n",
       "      <td>30.0</td>\n",
       "    </tr>\n",
       "    <tr>\n",
       "      <th>2</th>\n",
       "      <td>GP</td>\n",
       "      <td>F</td>\n",
       "      <td>15</td>\n",
       "      <td>U</td>\n",
       "      <td>LE3</td>\n",
       "      <td>T</td>\n",
       "      <td>1.0</td>\n",
       "      <td>1.0</td>\n",
       "      <td>at_home</td>\n",
       "      <td>other</td>\n",
       "      <td>other</td>\n",
       "      <td>mother</td>\n",
       "      <td>1.0</td>\n",
       "      <td>2.0</td>\n",
       "      <td>3.0</td>\n",
       "      <td>yes</td>\n",
       "      <td>no</td>\n",
       "      <td>NaN</td>\n",
       "      <td>no</td>\n",
       "      <td>yes</td>\n",
       "      <td>-6.0</td>\n",
       "      <td>yes</td>\n",
       "      <td>yes</td>\n",
       "      <td>NaN</td>\n",
       "      <td>4.0</td>\n",
       "      <td>3.0</td>\n",
       "      <td>2.0</td>\n",
       "      <td>3.0</td>\n",
       "      <td>10.0</td>\n",
       "      <td>50.0</td>\n",
       "    </tr>\n",
       "    <tr>\n",
       "      <th>3</th>\n",
       "      <td>GP</td>\n",
       "      <td>F</td>\n",
       "      <td>15</td>\n",
       "      <td>U</td>\n",
       "      <td>GT3</td>\n",
       "      <td>T</td>\n",
       "      <td>4.0</td>\n",
       "      <td>2.0</td>\n",
       "      <td>health</td>\n",
       "      <td>NaN</td>\n",
       "      <td>home</td>\n",
       "      <td>mother</td>\n",
       "      <td>1.0</td>\n",
       "      <td>3.0</td>\n",
       "      <td>0.0</td>\n",
       "      <td>no</td>\n",
       "      <td>yes</td>\n",
       "      <td>yes</td>\n",
       "      <td>yes</td>\n",
       "      <td>yes</td>\n",
       "      <td>-9.0</td>\n",
       "      <td>yes</td>\n",
       "      <td>yes</td>\n",
       "      <td>yes</td>\n",
       "      <td>3.0</td>\n",
       "      <td>2.0</td>\n",
       "      <td>2.0</td>\n",
       "      <td>5.0</td>\n",
       "      <td>2.0</td>\n",
       "      <td>75.0</td>\n",
       "    </tr>\n",
       "    <tr>\n",
       "      <th>4</th>\n",
       "      <td>GP</td>\n",
       "      <td>F</td>\n",
       "      <td>16</td>\n",
       "      <td>U</td>\n",
       "      <td>GT3</td>\n",
       "      <td>T</td>\n",
       "      <td>3.0</td>\n",
       "      <td>3.0</td>\n",
       "      <td>other</td>\n",
       "      <td>other</td>\n",
       "      <td>home</td>\n",
       "      <td>father</td>\n",
       "      <td>1.0</td>\n",
       "      <td>2.0</td>\n",
       "      <td>0.0</td>\n",
       "      <td>no</td>\n",
       "      <td>yes</td>\n",
       "      <td>yes</td>\n",
       "      <td>no</td>\n",
       "      <td>yes</td>\n",
       "      <td>-6.0</td>\n",
       "      <td>yes</td>\n",
       "      <td>no</td>\n",
       "      <td>no</td>\n",
       "      <td>4.0</td>\n",
       "      <td>3.0</td>\n",
       "      <td>2.0</td>\n",
       "      <td>5.0</td>\n",
       "      <td>4.0</td>\n",
       "      <td>50.0</td>\n",
       "    </tr>\n",
       "  </tbody>\n",
       "</table>\n",
       "</div>"
      ],
      "text/plain": [
       "  school sex  age address famsize Pstatus  Medu  Fedu     Mjob     Fjob  \\\n",
       "0     GP   F   18       U     NaN       A   4.0   4.0  at_home  teacher   \n",
       "1     GP   F   17       U     GT3     NaN   1.0   1.0  at_home    other   \n",
       "2     GP   F   15       U     LE3       T   1.0   1.0  at_home    other   \n",
       "3     GP   F   15       U     GT3       T   4.0   2.0   health      NaN   \n",
       "4     GP   F   16       U     GT3       T   3.0   3.0    other    other   \n",
       "\n",
       "   reason guardian  traveltime  studytime  failures schoolsup famsup paid  \\\n",
       "0  course   mother         2.0        2.0       0.0       yes     no   no   \n",
       "1  course   father         1.0        2.0       0.0        no    yes   no   \n",
       "2   other   mother         1.0        2.0       3.0       yes     no  NaN   \n",
       "3    home   mother         1.0        3.0       0.0        no    yes  yes   \n",
       "4    home   father         1.0        2.0       0.0        no    yes  yes   \n",
       "\n",
       "  activities nursery  studytime, granular higher internet romantic  famrel  \\\n",
       "0         no     yes                 -6.0    yes      NaN       no     4.0   \n",
       "1         no      no                 -6.0    yes      yes       no     5.0   \n",
       "2         no     yes                 -6.0    yes      yes      NaN     4.0   \n",
       "3        yes     yes                 -9.0    yes      yes      yes     3.0   \n",
       "4         no     yes                 -6.0    yes       no       no     4.0   \n",
       "\n",
       "   freetime  goout  health  absences  score  \n",
       "0       3.0    4.0     3.0       6.0   30.0  \n",
       "1       3.0    3.0     3.0       4.0   30.0  \n",
       "2       3.0    2.0     3.0      10.0   50.0  \n",
       "3       2.0    2.0     5.0       2.0   75.0  \n",
       "4       3.0    2.0     5.0       4.0   50.0  "
      ]
     },
     "execution_count": 657,
     "metadata": {},
     "output_type": "execute_result"
    }
   ],
   "source": [
    "df.head()"
   ]
  },
  {
   "cell_type": "code",
   "execution_count": 658,
   "metadata": {},
   "outputs": [
    {
     "data": {
      "text/plain": [
       "(395, 30)"
      ]
     },
     "execution_count": 658,
     "metadata": {},
     "output_type": "execute_result"
    }
   ],
   "source": [
    "df.shape"
   ]
  },
  {
   "cell_type": "markdown",
   "metadata": {},
   "source": [
    "* В нашем датасете 395 наблюдений с 30 признаками"
   ]
  },
  {
   "cell_type": "code",
   "execution_count": 659,
   "metadata": {
    "scrolled": false
   },
   "outputs": [
    {
     "data": {
      "text/html": [
       "<div>\n",
       "<style scoped>\n",
       "    .dataframe tbody tr th:only-of-type {\n",
       "        vertical-align: middle;\n",
       "    }\n",
       "\n",
       "    .dataframe tbody tr th {\n",
       "        vertical-align: top;\n",
       "    }\n",
       "\n",
       "    .dataframe thead th {\n",
       "        text-align: right;\n",
       "    }\n",
       "</style>\n",
       "<table border=\"1\" class=\"dataframe\">\n",
       "  <thead>\n",
       "    <tr style=\"text-align: right;\">\n",
       "      <th></th>\n",
       "      <th>count</th>\n",
       "      <th>mean</th>\n",
       "      <th>std</th>\n",
       "      <th>min</th>\n",
       "      <th>25%</th>\n",
       "      <th>50%</th>\n",
       "      <th>75%</th>\n",
       "      <th>max</th>\n",
       "    </tr>\n",
       "  </thead>\n",
       "  <tbody>\n",
       "    <tr>\n",
       "      <th>age</th>\n",
       "      <td>395.0</td>\n",
       "      <td>16.696203</td>\n",
       "      <td>1.276043</td>\n",
       "      <td>15.0</td>\n",
       "      <td>16.0</td>\n",
       "      <td>17.0</td>\n",
       "      <td>18.0</td>\n",
       "      <td>22.0</td>\n",
       "    </tr>\n",
       "    <tr>\n",
       "      <th>Medu</th>\n",
       "      <td>392.0</td>\n",
       "      <td>2.750000</td>\n",
       "      <td>1.098127</td>\n",
       "      <td>0.0</td>\n",
       "      <td>2.0</td>\n",
       "      <td>3.0</td>\n",
       "      <td>4.0</td>\n",
       "      <td>4.0</td>\n",
       "    </tr>\n",
       "    <tr>\n",
       "      <th>Fedu</th>\n",
       "      <td>371.0</td>\n",
       "      <td>2.614555</td>\n",
       "      <td>2.228732</td>\n",
       "      <td>0.0</td>\n",
       "      <td>2.0</td>\n",
       "      <td>2.0</td>\n",
       "      <td>3.0</td>\n",
       "      <td>40.0</td>\n",
       "    </tr>\n",
       "    <tr>\n",
       "      <th>traveltime</th>\n",
       "      <td>367.0</td>\n",
       "      <td>1.438692</td>\n",
       "      <td>0.694181</td>\n",
       "      <td>1.0</td>\n",
       "      <td>1.0</td>\n",
       "      <td>1.0</td>\n",
       "      <td>2.0</td>\n",
       "      <td>4.0</td>\n",
       "    </tr>\n",
       "    <tr>\n",
       "      <th>studytime</th>\n",
       "      <td>388.0</td>\n",
       "      <td>2.038660</td>\n",
       "      <td>0.842078</td>\n",
       "      <td>1.0</td>\n",
       "      <td>1.0</td>\n",
       "      <td>2.0</td>\n",
       "      <td>2.0</td>\n",
       "      <td>4.0</td>\n",
       "    </tr>\n",
       "    <tr>\n",
       "      <th>failures</th>\n",
       "      <td>373.0</td>\n",
       "      <td>0.337802</td>\n",
       "      <td>0.743135</td>\n",
       "      <td>0.0</td>\n",
       "      <td>0.0</td>\n",
       "      <td>0.0</td>\n",
       "      <td>0.0</td>\n",
       "      <td>3.0</td>\n",
       "    </tr>\n",
       "    <tr>\n",
       "      <th>studytime, granular</th>\n",
       "      <td>388.0</td>\n",
       "      <td>-6.115979</td>\n",
       "      <td>2.526235</td>\n",
       "      <td>-12.0</td>\n",
       "      <td>-6.0</td>\n",
       "      <td>-6.0</td>\n",
       "      <td>-3.0</td>\n",
       "      <td>-3.0</td>\n",
       "    </tr>\n",
       "    <tr>\n",
       "      <th>famrel</th>\n",
       "      <td>368.0</td>\n",
       "      <td>3.937500</td>\n",
       "      <td>0.927277</td>\n",
       "      <td>-1.0</td>\n",
       "      <td>4.0</td>\n",
       "      <td>4.0</td>\n",
       "      <td>5.0</td>\n",
       "      <td>5.0</td>\n",
       "    </tr>\n",
       "    <tr>\n",
       "      <th>freetime</th>\n",
       "      <td>384.0</td>\n",
       "      <td>3.231771</td>\n",
       "      <td>0.993940</td>\n",
       "      <td>1.0</td>\n",
       "      <td>3.0</td>\n",
       "      <td>3.0</td>\n",
       "      <td>4.0</td>\n",
       "      <td>5.0</td>\n",
       "    </tr>\n",
       "    <tr>\n",
       "      <th>goout</th>\n",
       "      <td>387.0</td>\n",
       "      <td>3.105943</td>\n",
       "      <td>1.115896</td>\n",
       "      <td>1.0</td>\n",
       "      <td>2.0</td>\n",
       "      <td>3.0</td>\n",
       "      <td>4.0</td>\n",
       "      <td>5.0</td>\n",
       "    </tr>\n",
       "    <tr>\n",
       "      <th>health</th>\n",
       "      <td>380.0</td>\n",
       "      <td>3.531579</td>\n",
       "      <td>1.396019</td>\n",
       "      <td>1.0</td>\n",
       "      <td>3.0</td>\n",
       "      <td>4.0</td>\n",
       "      <td>5.0</td>\n",
       "      <td>5.0</td>\n",
       "    </tr>\n",
       "    <tr>\n",
       "      <th>absences</th>\n",
       "      <td>383.0</td>\n",
       "      <td>7.279373</td>\n",
       "      <td>23.465197</td>\n",
       "      <td>0.0</td>\n",
       "      <td>0.0</td>\n",
       "      <td>4.0</td>\n",
       "      <td>8.0</td>\n",
       "      <td>385.0</td>\n",
       "    </tr>\n",
       "    <tr>\n",
       "      <th>score</th>\n",
       "      <td>389.0</td>\n",
       "      <td>52.262211</td>\n",
       "      <td>22.919022</td>\n",
       "      <td>0.0</td>\n",
       "      <td>40.0</td>\n",
       "      <td>55.0</td>\n",
       "      <td>70.0</td>\n",
       "      <td>100.0</td>\n",
       "    </tr>\n",
       "  </tbody>\n",
       "</table>\n",
       "</div>"
      ],
      "text/plain": [
       "                     count       mean        std   min   25%   50%   75%  \\\n",
       "age                  395.0  16.696203   1.276043  15.0  16.0  17.0  18.0   \n",
       "Medu                 392.0   2.750000   1.098127   0.0   2.0   3.0   4.0   \n",
       "Fedu                 371.0   2.614555   2.228732   0.0   2.0   2.0   3.0   \n",
       "traveltime           367.0   1.438692   0.694181   1.0   1.0   1.0   2.0   \n",
       "studytime            388.0   2.038660   0.842078   1.0   1.0   2.0   2.0   \n",
       "failures             373.0   0.337802   0.743135   0.0   0.0   0.0   0.0   \n",
       "studytime, granular  388.0  -6.115979   2.526235 -12.0  -6.0  -6.0  -3.0   \n",
       "famrel               368.0   3.937500   0.927277  -1.0   4.0   4.0   5.0   \n",
       "freetime             384.0   3.231771   0.993940   1.0   3.0   3.0   4.0   \n",
       "goout                387.0   3.105943   1.115896   1.0   2.0   3.0   4.0   \n",
       "health               380.0   3.531579   1.396019   1.0   3.0   4.0   5.0   \n",
       "absences             383.0   7.279373  23.465197   0.0   0.0   4.0   8.0   \n",
       "score                389.0  52.262211  22.919022   0.0  40.0  55.0  70.0   \n",
       "\n",
       "                       max  \n",
       "age                   22.0  \n",
       "Medu                   4.0  \n",
       "Fedu                  40.0  \n",
       "traveltime             4.0  \n",
       "studytime              4.0  \n",
       "failures               3.0  \n",
       "studytime, granular   -3.0  \n",
       "famrel                 5.0  \n",
       "freetime               5.0  \n",
       "goout                  5.0  \n",
       "health                 5.0  \n",
       "absences             385.0  \n",
       "score                100.0  "
      ]
     },
     "execution_count": 659,
     "metadata": {},
     "output_type": "execute_result"
    }
   ],
   "source": [
    "df.describe().T"
   ]
  },
  {
   "cell_type": "markdown",
   "metadata": {},
   "source": [
    "* Видим выбросы в колонках Fedu (max=40.0) и Famrel (min=-1)"
   ]
  },
  {
   "cell_type": "markdown",
   "metadata": {},
   "source": [
    "* В нашей целевой переменной score наблюдаем сильное различие между медианой (55) и ст. отклонением (22.9), что противоречит нормальности распределения. Позже изучим дискретные признаки подробнее."
   ]
  },
  {
   "cell_type": "code",
   "execution_count": 660,
   "metadata": {
    "scrolled": false
   },
   "outputs": [
    {
     "data": {
      "text/plain": [
       "school                  object\n",
       "sex                     object\n",
       "age                      int64\n",
       "address                 object\n",
       "famsize                 object\n",
       "Pstatus                 object\n",
       "Medu                   float64\n",
       "Fedu                   float64\n",
       "Mjob                    object\n",
       "Fjob                    object\n",
       "reason                  object\n",
       "guardian                object\n",
       "traveltime             float64\n",
       "studytime              float64\n",
       "failures               float64\n",
       "schoolsup               object\n",
       "famsup                  object\n",
       "paid                    object\n",
       "activities              object\n",
       "nursery                 object\n",
       "studytime, granular    float64\n",
       "higher                  object\n",
       "internet                object\n",
       "romantic                object\n",
       "famrel                 float64\n",
       "freetime               float64\n",
       "goout                  float64\n",
       "health                 float64\n",
       "absences               float64\n",
       "score                  float64\n",
       "dtype: object"
      ]
     },
     "execution_count": 660,
     "metadata": {},
     "output_type": "execute_result"
    }
   ],
   "source": [
    "df.dtypes"
   ]
  },
  {
   "cell_type": "markdown",
   "metadata": {},
   "source": [
    "* Проверим, какое количество значений (*cardinality*) принимают наши категориальные переменные"
   ]
  },
  {
   "cell_type": "code",
   "execution_count": 661,
   "metadata": {},
   "outputs": [],
   "source": [
    "# Занесем все названия категориальных переменных в список\n",
    "object_cols = [col for col in df.columns if df[col].dtype == \"object\"]\n",
    "\n",
    "# У нас также есть кат. переменные с уже закодированными, числовыми значениями. Добавим их в список:\n",
    "encoded = [\"Medu\", \"Fedu\", \"traveltime\", \"studytime\", \"failures\", \n",
    "           \"famrel\", \"freetime\", \"goout\", \"health\"]\n",
    "\n",
    "for item in encoded:\n",
    "    object_cols.append(item)"
   ]
  },
  {
   "cell_type": "code",
   "execution_count": 662,
   "metadata": {},
   "outputs": [
    {
     "data": {
      "text/plain": [
       "[('school', 2),\n",
       " ('sex', 2),\n",
       " ('address', 2),\n",
       " ('famsize', 2),\n",
       " ('Pstatus', 2),\n",
       " ('schoolsup', 2),\n",
       " ('famsup', 2),\n",
       " ('paid', 2),\n",
       " ('activities', 2),\n",
       " ('nursery', 2),\n",
       " ('higher', 2),\n",
       " ('internet', 2),\n",
       " ('romantic', 2),\n",
       " ('guardian', 3),\n",
       " ('reason', 4),\n",
       " ('traveltime', 4),\n",
       " ('studytime', 4),\n",
       " ('failures', 4),\n",
       " ('Mjob', 5),\n",
       " ('Fjob', 5),\n",
       " ('Medu', 5),\n",
       " ('freetime', 5),\n",
       " ('goout', 5),\n",
       " ('health', 5),\n",
       " ('Fedu', 6),\n",
       " ('famrel', 6)]"
      ]
     },
     "execution_count": 662,
     "metadata": {},
     "output_type": "execute_result"
    }
   ],
   "source": [
    "# Сколько уникальных значений принимают наши катег. переменные?\n",
    "object_nunique = list(map(lambda col: df[col].nunique(), object_cols))\n",
    "d = dict(zip(object_cols, object_nunique))\n",
    "\n",
    "# Отсортируем кол-во уникальных значений по возрастанию\n",
    "sorted(d.items(), key=lambda x: x[1])"
   ]
  },
  {
   "cell_type": "markdown",
   "metadata": {},
   "source": [
    "* Наблюдаем 13 переменных, принимающих лишь два значения. В целом наши категориальные признаки принимают небольшое число значений, с максимумов 5 (если не учитывать выбросы в *Fedu* & *famrel*), значит мы можем закодировать их, создав dummy-переменные для последующего моделирования."
   ]
  },
  {
   "cell_type": "markdown",
   "metadata": {},
   "source": [
    "## Пропуски"
   ]
  },
  {
   "cell_type": "code",
   "execution_count": 663,
   "metadata": {},
   "outputs": [
    {
     "data": {
      "text/plain": [
       "school                  0\n",
       "sex                     0\n",
       "age                     0\n",
       "address                17\n",
       "famsize                27\n",
       "Pstatus                45\n",
       "Medu                    3\n",
       "Fedu                   24\n",
       "Mjob                   19\n",
       "Fjob                   36\n",
       "reason                 17\n",
       "guardian               31\n",
       "traveltime             28\n",
       "studytime               7\n",
       "failures               22\n",
       "schoolsup               9\n",
       "famsup                 39\n",
       "paid                   40\n",
       "activities             14\n",
       "nursery                16\n",
       "studytime, granular     7\n",
       "higher                 20\n",
       "internet               34\n",
       "romantic               31\n",
       "famrel                 27\n",
       "freetime               11\n",
       "goout                   8\n",
       "health                 15\n",
       "absences               12\n",
       "score                   6\n",
       "dtype: int64"
      ]
     },
     "execution_count": 663,
     "metadata": {},
     "output_type": "execute_result"
    }
   ],
   "source": [
    "df.isna().sum()"
   ]
  },
  {
   "cell_type": "markdown",
   "metadata": {},
   "source": [
    "* Во всех признаках, кроме первых трех, наблюдаем выбросы. Изобразим графически:"
   ]
  },
  {
   "cell_type": "code",
   "execution_count": 664,
   "metadata": {},
   "outputs": [
    {
     "data": {
      "text/plain": [
       "<AxesSubplot:>"
      ]
     },
     "execution_count": 664,
     "metadata": {},
     "output_type": "execute_result"
    },
    {
     "data": {
      "image/png": "[encoded data removed]",
      "text/plain": [
       "<Figure size 864x576 with 1 Axes>"
      ]
     },
     "metadata": {},
     "output_type": "display_data"
    }
   ],
   "source": [
    "fig, ax = plt.subplots(figsize=(12,8)) \n",
    "sns.heatmap(df.isnull(), yticklabels=False, cbar=False, cmap=\"viridis\")"
   ]
  },
  {
   "cell_type": "markdown",
   "metadata": {},
   "source": [
    "* Избавимся от наблюдений с пропусками в нашей целевой переменной (score)"
   ]
  },
  {
   "cell_type": "code",
   "execution_count": 665,
   "metadata": {},
   "outputs": [],
   "source": [
    "df.dropna(axis=0, subset=['score'], inplace=True)\n",
    "df.reset_index(drop=True, inplace=True)"
   ]
  },
  {
   "cell_type": "code",
   "execution_count": 666,
   "metadata": {},
   "outputs": [
    {
     "data": {
      "text/plain": [
       "(389, 30)"
      ]
     },
     "execution_count": 666,
     "metadata": {},
     "output_type": "execute_result"
    }
   ],
   "source": [
    "df.shape"
   ]
  },
  {
   "cell_type": "code",
   "execution_count": 667,
   "metadata": {},
   "outputs": [
    {
     "name": "stdout",
     "output_type": "stream",
     "text": [
      "Процент пропусков от общего числа данных составляет 4.71 %\n"
     ]
    }
   ],
   "source": [
    "print(f\"Процент пропусков от общего числа данных составляет {round((df.isna().sum().sum() / np.prod(df.shape))*100, 2)} %\")"
   ]
  },
  {
   "cell_type": "code",
   "execution_count": 668,
   "metadata": {},
   "outputs": [
    {
     "data": {
      "text/plain": [
       "Pstatus     45\n",
       "paid        39\n",
       "famsup      38\n",
       "Fjob        36\n",
       "internet    34\n",
       "romantic    31\n",
       "dtype: int64"
      ]
     },
     "execution_count": 668,
     "metadata": {},
     "output_type": "execute_result"
    }
   ],
   "source": [
    "df.isna().sum().sort_values(ascending=False)[:6]"
   ]
  },
  {
   "cell_type": "markdown",
   "metadata": {},
   "source": [
    "* Больше всего пропусков наблюдаем в признаках ['Pstatus', 'paid', 'famsup', 'Fjob', 'internet', 'romantic']"
   ]
  },
  {
   "cell_type": "code",
   "execution_count": 669,
   "metadata": {},
   "outputs": [
    {
     "name": "stdout",
     "output_type": "stream",
     "text": [
      "Максимальный процент пропущенных данных от общего числа наблюдений составляет 11.57 %\n"
     ]
    }
   ],
   "source": [
    "print(f\"Максимальный процент пропущенных данных от общего числа наблюдений составляет {round(df.isna().sum().sort_values(ascending=False)[:6][0] / df.shape[0]*100, 2)} %\")\n"
   ]
  },
  {
   "cell_type": "markdown",
   "metadata": {},
   "source": [
    "* Пропущено 11 и менее процентов от общего количества наблюдений. Удаление столбцов с пропусками считаю нецелесообразным, так как в таком случае мы теряем большой объем потенциально полезных для нашей модели данных."
   ]
  },
  {
   "cell_type": "markdown",
   "metadata": {},
   "source": [
    "* Далее поработаем с пропусками в каждом типе переменных."
   ]
  },
  {
   "cell_type": "markdown",
   "metadata": {},
   "source": [
    "## Дихотомические переменные (Binary Features)"
   ]
  },
  {
   "cell_type": "markdown",
   "metadata": {},
   "source": [
    "* В нашем датасете достаточно много дихотомических признаков (переменная принимает лишь два значения). Выделим их в отдельный датафрейм:"
   ]
  },
  {
   "cell_type": "code",
   "execution_count": 683,
   "metadata": {},
   "outputs": [],
   "source": [
    "bin_var = [\"school\", \"sex\", \"address\", \"famsize\", \"Pstatus\", \"schoolsup\", \"famsup\", \n",
    "           \"paid\", \"activities\", \"nursery\", \"higher\", \"internet\", \"romantic\"]\n",
    "\n",
    "df_binary = df.loc[:, bin_var]"
   ]
  },
  {
   "cell_type": "markdown",
   "metadata": {},
   "source": [
    "* Визуализируем эти признаки"
   ]
  },
  {
   "cell_type": "code",
   "execution_count": 684,
   "metadata": {
    "scrolled": true
   },
   "outputs": [
    {
     "data": {
      "text/plain": [
       "[(0.0, 1.0)]"
      ]
     },
     "execution_count": 684,
     "metadata": {},
     "output_type": "execute_result"
    },
    {
     "data": {
      "image/png": "[encoded data removed]",
      "text/plain": [
       "<Figure size 1296x1008 with 16 Axes>"
      ]
     },
     "metadata": {},
     "output_type": "display_data"
    }
   ],
   "source": [
    "f, ax = plt.subplots(4, 4, figsize=(18,14))\n",
    "\n",
    "sns.set(style=\"whitegrid\")\n",
    "\n",
    "f1 = sns.barplot(x = df_binary[\"school\"].value_counts(normalize=True).index, \n",
    "                 y = df_binary[\"school\"].value_counts(normalize=True), palette = \"pastel\", ax=ax[0][0])\n",
    "\n",
    "f1.set(ylim=(0, 1))\n",
    "\n",
    "f2 = sns.barplot(x = df_binary[\"sex\"].value_counts(normalize=True).index, \n",
    "                 y = df_binary[\"sex\"].value_counts(normalize=True), palette = \"pastel\", ax=ax[0][1])\n",
    "\n",
    "f2.set(ylim=(0, 1))\n",
    "\n",
    "f3 = sns.barplot(x = df_binary[\"address\"].value_counts(normalize=True).index, \n",
    "                 y = df_binary[\"address\"].value_counts(normalize=True), palette = \"pastel\", ax=ax[0][2])\n",
    "\n",
    "f3.set(ylim=(0, 1))\n",
    "\n",
    "f4 = sns.barplot(x = df_binary[\"famsize\"].value_counts(normalize=True).index, \n",
    "                 y = df_binary[\"famsize\"].value_counts(normalize=True), palette = \"pastel\", ax=ax[0][3])\n",
    "\n",
    "f4.set(ylim=(0, 1))\n",
    "\n",
    "f5 = sns.barplot(x = df_binary[\"Pstatus\"].value_counts(normalize=True).index, \n",
    "                 y = df_binary[\"Pstatus\"].value_counts(normalize=True), palette = \"pastel\", ax=ax[1][0])\n",
    "\n",
    "f5.set(ylim=(0, 1))\n",
    "\n",
    "f6 = sns.barplot(x = df_binary[\"schoolsup\"].value_counts(normalize=True).index, \n",
    "                 y = df_binary[\"schoolsup\"].value_counts(normalize=True), palette = \"pastel\", ax=ax[1][1])\n",
    "\n",
    "f6.set(ylim=(0, 1))\n",
    "\n",
    "f7 = sns.barplot(x = df_binary[\"famsup\"].value_counts(normalize=True).index, \n",
    "                 y = df_binary[\"famsup\"].value_counts(normalize=True), palette = \"pastel\", ax=ax[1][2])\n",
    "\n",
    "f7.set(ylim=(0, 1))\n",
    "\n",
    "f8 = sns.barplot(x = df_binary[\"paid\"].value_counts(normalize=True).index, \n",
    "                 y = df_binary[\"paid\"].value_counts(normalize=True), palette = \"pastel\", ax=ax[1][3])\n",
    "\n",
    "f8.set(ylim=(0, 1))\n",
    "\n",
    "f9 = sns.barplot(x = df_binary[\"activities\"].value_counts(normalize=True).index, \n",
    "                 y = df_binary[\"activities\"].value_counts(normalize=True), palette = \"pastel\", ax=ax[2][0])\n",
    "\n",
    "f9.set(ylim=(0, 1))\n",
    "\n",
    "f10 = sns.barplot(x = df_binary[\"nursery\"].value_counts(normalize=True).index, \n",
    "                  y = df_binary[\"nursery\"].value_counts(normalize=True), palette = \"pastel\", ax=ax[2][1])\n",
    "\n",
    "f10.set(ylim=(0, 1))\n",
    "\n",
    "f11 = sns.barplot(x = df_binary[\"higher\"].value_counts(normalize=True).index, \n",
    "                  y = df_binary[\"higher\"].value_counts(normalize=True), palette = \"pastel\", ax=ax[2][2])\n",
    "\n",
    "f11.set(ylim=(0, 1))\n",
    "\n",
    "f12 = sns.barplot(x = df_binary[\"internet\"].value_counts(normalize=True).index, \n",
    "                  y = df_binary[\"internet\"].value_counts(normalize=True), palette = \"pastel\", ax=ax[2][3])\n",
    "\n",
    "f12.set(ylim=(0, 1))\n",
    "\n",
    "f13 = sns.barplot(x = df_binary[\"romantic\"].value_counts(normalize=True).index, \n",
    "                  y = df_binary[\"romantic\"].value_counts(normalize=True), palette = \"pastel\", ax=ax[3][0])\n",
    "\n",
    "f13.set(ylim=(0, 1))\n",
    "\n",
    "\n",
    "# Безуспешно пытался реализовать это с помощью цикла. Получается только расположив графики вертикально друг под другом:\n",
    "\n",
    "# for i in df_binary.columns:\n",
    "#     bin_num = df_binary[i].value_counts(normalize=False)\n",
    "#     print(\"graph for %s\" % (i))\n",
    "#     sns.barplot(x = bin_num.index, y = bin_num)\n",
    "#     plt.show()\n"
   ]
  },
  {
   "cell_type": "markdown",
   "metadata": {},
   "source": [
    "* Как видно из графиков, большинство признаков имеют одно ярко выраженное значение. Исключения составляют признаки *sex* (однако он не имеет пропусков), *famsup*, *paid* и *activities*"
   ]
  },
  {
   "cell_type": "markdown",
   "metadata": {},
   "source": [
    "* Пропуски в признаках с одним ярко выраженным значением заполним этим значением (*most_frequent*). Для этого воспользуемся методом [SimpleImputer](https://scikit-learn.org/stable/modules/impute.html#univariate-feature-imputation) из библиотеки **sklearn**"
   ]
  },
  {
   "cell_type": "code",
   "execution_count": 685,
   "metadata": {},
   "outputs": [],
   "source": [
    "from sklearn.impute import SimpleImputer\n",
    "imp = SimpleImputer(missing_values=np.nan, strategy='most_frequent')"
   ]
  },
  {
   "cell_type": "code",
   "execution_count": 686,
   "metadata": {},
   "outputs": [],
   "source": [
    "# df_binary -most frequent-\n",
    "df_binary_mf = df_binary.loc[:, [\"school\", \"address\", \"famsize\", \"Pstatus\", \"schoolsup\", \n",
    "                                 \"nursery\", \"higher\", \"internet\", \"romantic\"]]\n",
    "\n",
    "imp.fit(df_binary_mf)\n",
    "df_binary_mf_imp = pd.DataFrame(imp.transform(df_binary_mf))\n",
    "\n",
    "# Imputation убирает название столбцов, вернем их\n",
    "df_binary_mf_imp.columns = df_binary_mf.columns"
   ]
  },
  {
   "cell_type": "code",
   "execution_count": 687,
   "metadata": {},
   "outputs": [
    {
     "data": {
      "text/plain": [
       "school       0\n",
       "address      0\n",
       "famsize      0\n",
       "Pstatus      0\n",
       "schoolsup    0\n",
       "nursery      0\n",
       "higher       0\n",
       "internet     0\n",
       "romantic     0\n",
       "dtype: int64"
      ]
     },
     "execution_count": 687,
     "metadata": {},
     "output_type": "execute_result"
    }
   ],
   "source": [
    "# Проверим, ушли ли пропуски\n",
    "df_binary_mf_imp.isna().sum()"
   ]
  },
  {
   "cell_type": "markdown",
   "metadata": {},
   "source": [
    "* Теперь займемся дихотом. признаками, где значения распределены примерно поровну. Пропуски в них заменим предыдущим значением в столбце:"
   ]
  },
  {
   "cell_type": "code",
   "execution_count": 688,
   "metadata": {},
   "outputs": [],
   "source": [
    "# df_binary -equal-\n",
    "df_binary_eq = df_binary.loc[:, [\"sex\", \"famsup\", \"paid\", \"activities\"]]\n",
    "df_binary_eq_imp = df_binary_eq.copy(deep=True)\n",
    "\n",
    "df_binary_eq_imp[\"famsup\"] = df_binary_eq[\"famsup\"].fillna(method=\"ffill\")\n",
    "df_binary_eq_imp[\"paid\"] = df_binary_eq[\"paid\"].fillna(method=\"ffill\")\n",
    "df_binary_eq_imp[\"activities\"] = df_binary_eq[\"activities\"].fillna(method=\"ffill\")"
   ]
  },
  {
   "cell_type": "code",
   "execution_count": 689,
   "metadata": {},
   "outputs": [
    {
     "data": {
      "text/plain": [
       "sex           0\n",
       "famsup        0\n",
       "paid          0\n",
       "activities    0\n",
       "dtype: int64"
      ]
     },
     "execution_count": 689,
     "metadata": {},
     "output_type": "execute_result"
    }
   ],
   "source": [
    "df_binary_eq_imp.isna().sum()"
   ]
  },
  {
   "cell_type": "code",
   "execution_count": 690,
   "metadata": {},
   "outputs": [
    {
     "data": {
      "text/plain": [
       "(389, 4)"
      ]
     },
     "execution_count": 690,
     "metadata": {},
     "output_type": "execute_result"
    }
   ],
   "source": [
    "df_binary_eq_imp.shape"
   ]
  },
  {
   "cell_type": "code",
   "execution_count": 691,
   "metadata": {},
   "outputs": [
    {
     "data": {
      "text/plain": [
       "(389, 9)"
      ]
     },
     "execution_count": 691,
     "metadata": {},
     "output_type": "execute_result"
    }
   ],
   "source": [
    "df_binary_mf_imp.shape"
   ]
  },
  {
   "cell_type": "markdown",
   "metadata": {},
   "source": [
    "* Объединим получившиеся датафреймы"
   ]
  },
  {
   "cell_type": "code",
   "execution_count": 692,
   "metadata": {},
   "outputs": [],
   "source": [
    "df_binary_clean = pd.concat([df_binary_eq_imp, df_binary_mf_imp], axis=1)"
   ]
  },
  {
   "cell_type": "code",
   "execution_count": 693,
   "metadata": {},
   "outputs": [
    {
     "data": {
      "text/plain": [
       "sex           0\n",
       "famsup        0\n",
       "paid          0\n",
       "activities    0\n",
       "school        0\n",
       "address       0\n",
       "famsize       0\n",
       "Pstatus       0\n",
       "schoolsup     0\n",
       "nursery       0\n",
       "higher        0\n",
       "internet      0\n",
       "romantic      0\n",
       "dtype: int64"
      ]
     },
     "execution_count": 693,
     "metadata": {},
     "output_type": "execute_result"
    }
   ],
   "source": [
    "df_binary_clean.isna().sum()"
   ]
  },
  {
   "cell_type": "code",
   "execution_count": 695,
   "metadata": {},
   "outputs": [
    {
     "data": {
      "text/plain": [
       "(389, 13)"
      ]
     },
     "execution_count": 695,
     "metadata": {},
     "output_type": "execute_result"
    }
   ],
   "source": [
    "df_binary_clean.shape"
   ]
  },
  {
   "cell_type": "markdown",
   "metadata": {},
   "source": [
    "* Дихотомические признаки теперь не содержат пропусков. Посмотрим, как теперь они выглядят на графиках."
   ]
  },
  {
   "cell_type": "code",
   "execution_count": 506,
   "metadata": {
    "scrolled": true
   },
   "outputs": [
    {
     "data": {
      "text/plain": [
       "[(0.0, 1.0)]"
      ]
     },
     "execution_count": 506,
     "metadata": {},
     "output_type": "execute_result"
    },
    {
     "data": {
      "image/png": "[encoded data removed]",
      "text/plain": [
       "<Figure size 1296x1008 with 16 Axes>"
      ]
     },
     "metadata": {},
     "output_type": "display_data"
    }
   ],
   "source": [
    "f, ax = plt.subplots(4, 4, figsize=(18,14))\n",
    "\n",
    "sns.set(style=\"whitegrid\")\n",
    "\n",
    "f1 = sns.barplot(x = df_binary_clean[\"school\"].value_counts(normalize=True).index, \n",
    "                 y = df_binary_clean[\"school\"].value_counts(normalize=True), palette = \"bright\", ax=ax[0][0])\n",
    "\n",
    "f1.set(ylim=(0, 1))\n",
    "\n",
    "f2 = sns.barplot(x = df_binary_clean[\"sex\"].value_counts(normalize=True).index, \n",
    "                 y = df_binary_clean[\"sex\"].value_counts(normalize=True), palette = \"bright\", ax=ax[0][1])\n",
    "\n",
    "f2.set(ylim=(0, 1))\n",
    "\n",
    "f3 = sns.barplot(x = df_binary_clean[\"address\"].value_counts(normalize=True).index, \n",
    "                 y = df_binary_clean[\"address\"].value_counts(normalize=True), palette = \"bright\", ax=ax[0][2])\n",
    "\n",
    "f3.set(ylim=(0, 1))\n",
    "\n",
    "f4 = sns.barplot(x = df_binary_clean[\"famsize\"].value_counts(normalize=True).index, \n",
    "                 y = df_binary_clean[\"famsize\"].value_counts(normalize=True), palette = \"bright\", ax=ax[0][3])\n",
    "\n",
    "f4.set(ylim=(0, 1))\n",
    "\n",
    "f5 = sns.barplot(x = df_binary_clean[\"Pstatus\"].value_counts(normalize=True).index, \n",
    "                 y = df_binary_clean[\"Pstatus\"].value_counts(normalize=True), palette = \"bright\", ax=ax[1][0])\n",
    "\n",
    "f5.set(ylim=(0, 1))\n",
    "\n",
    "f6 = sns.barplot(x = df_binary_clean[\"schoolsup\"].value_counts(normalize=True).index, \n",
    "                 y = df_binary_clean[\"schoolsup\"].value_counts(normalize=True), palette = \"bright\", ax=ax[1][1])\n",
    "\n",
    "f6.set(ylim=(0, 1))\n",
    "\n",
    "f7 = sns.barplot(x = df_binary_clean[\"famsup\"].value_counts(normalize=True).index, \n",
    "                 y = df_binary_clean[\"famsup\"].value_counts(normalize=True), palette = \"bright\", ax=ax[1][2])\n",
    "\n",
    "f7.set(ylim=(0, 1))\n",
    "\n",
    "f8 = sns.barplot(x = df_binary_clean[\"paid\"].value_counts(normalize=True).index, \n",
    "                 y = df_binary_clean[\"paid\"].value_counts(normalize=True), palette = \"bright\", ax=ax[1][3])\n",
    "\n",
    "f8.set(ylim=(0, 1))\n",
    "\n",
    "f9 = sns.barplot(x = df_binary_clean[\"activities\"].value_counts(normalize=True).index, \n",
    "                 y = df_binary_clean[\"activities\"].value_counts(normalize=True), palette = \"bright\", ax=ax[2][0])\n",
    "\n",
    "f9.set(ylim=(0, 1))\n",
    "\n",
    "f10 = sns.barplot(x = df_binary_clean[\"nursery\"].value_counts(normalize=True).index, \n",
    "                  y = df_binary_clean[\"nursery\"].value_counts(normalize=True), palette = \"bright\", ax=ax[2][1])\n",
    "\n",
    "f10.set(ylim=(0, 1))\n",
    "\n",
    "f11 = sns.barplot(x = df_binary_clean[\"higher\"].value_counts(normalize=True).index, \n",
    "                  y = df_binary_clean[\"higher\"].value_counts(normalize=True), palette = \"bright\", ax=ax[2][2])\n",
    "\n",
    "f11.set(ylim=(0, 1))\n",
    "\n",
    "f12 = sns.barplot(x = df_binary_clean[\"internet\"].value_counts(normalize=True).index, \n",
    "                  y = df_binary_clean[\"internet\"].value_counts(normalize=True), palette = \"bright\", ax=ax[2][3])\n",
    "\n",
    "f12.set(ylim=(0, 1))\n",
    "\n",
    "f13 = sns.barplot(x = df_binary_clean[\"romantic\"].value_counts(normalize=True).index, \n",
    "                  y = df_binary_clean[\"romantic\"].value_counts(normalize=True), palette = \"bright\", ax=ax[3][0])\n",
    "\n",
    "f13.set(ylim=(0, 1))"
   ]
  },
  {
   "cell_type": "markdown",
   "metadata": {},
   "source": [
    "## Порядковые переменные (Ordinal Features)"
   ]
  },
  {
   "cell_type": "code",
   "execution_count": 602,
   "metadata": {},
   "outputs": [],
   "source": [
    "df_ordinal = df.loc[:, [\"Medu\", \"Fedu\", \"traveltime\", \"studytime\", \"failures\", \n",
    "                        \"famrel\", \"freetime\", \"goout\", \"health\"]]"
   ]
  },
  {
   "cell_type": "markdown",
   "metadata": {},
   "source": [
    "* Визуализируем значения наших порядковых переменных:"
   ]
  },
  {
   "cell_type": "code",
   "execution_count": 603,
   "metadata": {
    "scrolled": true
   },
   "outputs": [
    {
     "name": "stdout",
     "output_type": "stream",
     "text": [
      "graph for Medu\n"
     ]
    },
    {
     "data": {
      "image/png": "[encoded data removed]",
      "text/plain": [
       "<Figure size 360x216 with 1 Axes>"
      ]
     },
     "metadata": {},
     "output_type": "display_data"
    },
    {
     "name": "stdout",
     "output_type": "stream",
     "text": [
      "graph for Fedu\n"
     ]
    },
    {
     "data": {
      "image/png": "[encoded data removed]",
      "text/plain": [
       "<Figure size 360x216 with 1 Axes>"
      ]
     },
     "metadata": {},
     "output_type": "display_data"
    },
    {
     "name": "stdout",
     "output_type": "stream",
     "text": [
      "graph for traveltime\n"
     ]
    },
    {
     "data": {
      "image/png": "[encoded data removed]",
      "text/plain": [
       "<Figure size 360x216 with 1 Axes>"
      ]
     },
     "metadata": {},
     "output_type": "display_data"
    },
    {
     "name": "stdout",
     "output_type": "stream",
     "text": [
      "graph for studytime\n"
     ]
    },
    {
     "data": {
      "image/png": "[encoded data removed]",
      "text/plain": [
       "<Figure size 360x216 with 1 Axes>"
      ]
     },
     "metadata": {},
     "output_type": "display_data"
    },
    {
     "name": "stdout",
     "output_type": "stream",
     "text": [
      "graph for failures\n"
     ]
    },
    {
     "data": {
      "image/png": "[encoded data removed]",
      "text/plain": [
       "<Figure size 360x216 with 1 Axes>"
      ]
     },
     "metadata": {},
     "output_type": "display_data"
    },
    {
     "name": "stdout",
     "output_type": "stream",
     "text": [
      "graph for famrel\n"
     ]
    },
    {
     "data": {
      "image/png": "[encoded data removed]",
      "text/plain": [
       "<Figure size 360x216 with 1 Axes>"
      ]
     },
     "metadata": {},
     "output_type": "display_data"
    },
    {
     "name": "stdout",
     "output_type": "stream",
     "text": [
      "graph for freetime\n"
     ]
    },
    {
     "data": {
      "image/png": "[encoded data removed]",
      "text/plain": [
       "<Figure size 360x216 with 1 Axes>"
      ]
     },
     "metadata": {},
     "output_type": "display_data"
    },
    {
     "name": "stdout",
     "output_type": "stream",
     "text": [
      "graph for goout\n"
     ]
    },
    {
     "data": {
      "image/png": "[encoded data removed]",
      "text/plain": [
       "<Figure size 360x216 with 1 Axes>"
      ]
     },
     "metadata": {},
     "output_type": "display_data"
    },
    {
     "name": "stdout",
     "output_type": "stream",
     "text": [
      "graph for health\n"
     ]
    },
    {
     "data": {
      "image/png": "[encoded data removed]",
      "text/plain": [
       "<Figure size 360x216 with 1 Axes>"
      ]
     },
     "metadata": {},
     "output_type": "display_data"
    }
   ],
   "source": [
    "for i in df_ordinal.columns:\n",
    "    ord_num = df_ordinal[i].value_counts()\n",
    "    print(\"graph for %s\" % (i))\n",
    "    plt.subplots(figsize=(5,3))\n",
    "    sns.set_style(\"whitegrid\")\n",
    "    sns.barplot(x = ord_num.index, y = ord_num, ci = None, palette = \"pastel\", orient = 'v')\n",
    "    plt.show()"
   ]
  },
  {
   "cell_type": "markdown",
   "metadata": {},
   "source": [
    "* Займемся выбросами в столбцах Fedu и famrel"
   ]
  },
  {
   "cell_type": "code",
   "execution_count": 604,
   "metadata": {},
   "outputs": [],
   "source": [
    "# Предположу, что значение 40 в столбце Fedu это ошибочно записанное значение 4\n",
    "df_ordinal[\"Fedu\"] = df_ordinal.Fedu.apply(lambda x: 4.0 if x > 4.0 else x)"
   ]
  },
  {
   "cell_type": "code",
   "execution_count": 605,
   "metadata": {},
   "outputs": [
    {
     "data": {
      "text/plain": [
       "2.0    105\n",
       "3.0     94\n",
       "4.0     89\n",
       "1.0     75\n",
       "0.0      2\n",
       "Name: Fedu, dtype: int64"
      ]
     },
     "execution_count": 605,
     "metadata": {},
     "output_type": "execute_result"
    }
   ],
   "source": [
    "df_ordinal[\"Fedu\"].value_counts()"
   ]
  },
  {
   "cell_type": "code",
   "execution_count": 606,
   "metadata": {},
   "outputs": [],
   "source": [
    "# Предположу, что значение -1 в переменной famrel это ошибочно записанное значение 1\n",
    "df_ordinal[\"famrel\"] = df_ordinal.famrel.apply(lambda x: 1.0 if x < 1.0 else x)"
   ]
  },
  {
   "cell_type": "code",
   "execution_count": 607,
   "metadata": {},
   "outputs": [
    {
     "data": {
      "text/plain": [
       "4.0    178\n",
       "5.0     97\n",
       "3.0     62\n",
       "2.0     17\n",
       "1.0      8\n",
       "Name: famrel, dtype: int64"
      ]
     },
     "execution_count": 607,
     "metadata": {},
     "output_type": "execute_result"
    }
   ],
   "source": [
    "df_ordinal[\"famrel\"].value_counts()"
   ]
  },
  {
   "cell_type": "markdown",
   "metadata": {},
   "source": [
    "* Теперь займемся пропусками"
   ]
  },
  {
   "cell_type": "code",
   "execution_count": 608,
   "metadata": {},
   "outputs": [
    {
     "data": {
      "text/plain": [
       "Medu           3\n",
       "Fedu          24\n",
       "traveltime    28\n",
       "studytime      7\n",
       "failures      22\n",
       "famrel        27\n",
       "freetime       9\n",
       "goout          7\n",
       "health        15\n",
       "dtype: int64"
      ]
     },
     "execution_count": 608,
     "metadata": {},
     "output_type": "execute_result"
    }
   ],
   "source": [
    "df_ordinal.isnull().sum()"
   ]
  },
  {
   "cell_type": "markdown",
   "metadata": {},
   "source": [
    "* На этот раз воспользуемся более сложным подходом [IterativeImputer](https://scikit-learn.org/stable/modules/impute.html#multivariate-feature-imputation) из **sklearn**, который моделирует каждый признак с пропущенными значениями как функцию других признаков, используя ее для заполнения пропусков."
   ]
  },
  {
   "cell_type": "code",
   "execution_count": 609,
   "metadata": {},
   "outputs": [],
   "source": [
    "# multivariate feature imputation\n",
    "from sklearn.experimental import enable_iterative_imputer\n",
    "from sklearn.impute import IterativeImputer\n",
    "\n",
    "# в качестве estimator используем DecisionTreeRegressor\n",
    "from sklearn.tree import DecisionTreeRegressor"
   ]
  },
  {
   "cell_type": "code",
   "execution_count": 610,
   "metadata": {},
   "outputs": [],
   "source": [
    "imp = IterativeImputer(estimator = DecisionTreeRegressor(), max_iter=10, verbose=0, random_state=0)"
   ]
  },
  {
   "cell_type": "code",
   "execution_count": 611,
   "metadata": {},
   "outputs": [
    {
     "data": {
      "text/plain": [
       "IterativeImputer(estimator=DecisionTreeRegressor(), random_state=0)"
      ]
     },
     "execution_count": 611,
     "metadata": {},
     "output_type": "execute_result"
    }
   ],
   "source": [
    "imp.fit(df_ordinal)"
   ]
  },
  {
   "cell_type": "code",
   "execution_count": 612,
   "metadata": {},
   "outputs": [
    {
     "data": {
      "text/plain": [
       "array([[4., 4., 2., ..., 3., 4., 3.],\n",
       "       [1., 1., 1., ..., 3., 3., 3.],\n",
       "       [1., 1., 1., ..., 3., 2., 3.],\n",
       "       ...,\n",
       "       [1., 1., 1., ..., 5., 3., 3.],\n",
       "       [3., 2., 3., ..., 4., 1., 5.],\n",
       "       [1., 1., 1., ..., 2., 3., 5.]])"
      ]
     },
     "execution_count": 612,
     "metadata": {},
     "output_type": "execute_result"
    }
   ],
   "source": [
    "imp.transform(df_ordinal)"
   ]
  },
  {
   "cell_type": "code",
   "execution_count": 613,
   "metadata": {},
   "outputs": [],
   "source": [
    "df_ordinal_imp = pd.DataFrame(np.round(imp.transform(df_ordinal)))\n",
    "df_ordinal_imp.columns = df_ordinal.columns"
   ]
  },
  {
   "cell_type": "code",
   "execution_count": 614,
   "metadata": {},
   "outputs": [
    {
     "data": {
      "text/plain": [
       "Medu          0\n",
       "Fedu          0\n",
       "traveltime    0\n",
       "studytime     0\n",
       "failures      0\n",
       "famrel        0\n",
       "freetime      0\n",
       "goout         0\n",
       "health        0\n",
       "dtype: int64"
      ]
     },
     "execution_count": 614,
     "metadata": {},
     "output_type": "execute_result"
    }
   ],
   "source": [
    "df_ordinal_imp.isna().sum()"
   ]
  },
  {
   "cell_type": "code",
   "execution_count": 615,
   "metadata": {},
   "outputs": [
    {
     "data": {
      "text/plain": [
       "4.0    194\n",
       "5.0    102\n",
       "3.0     65\n",
       "2.0     18\n",
       "1.0     10\n",
       "Name: famrel, dtype: int64"
      ]
     },
     "execution_count": 615,
     "metadata": {},
     "output_type": "execute_result"
    }
   ],
   "source": [
    "# Проверим, остались ли пропуски\n",
    "df_ordinal_imp.famrel.value_counts()"
   ]
  },
  {
   "cell_type": "code",
   "execution_count": 616,
   "metadata": {},
   "outputs": [
    {
     "data": {
      "text/plain": [
       "4.0    178\n",
       "5.0     97\n",
       "3.0     62\n",
       "NaN     27\n",
       "2.0     17\n",
       "1.0      8\n",
       "Name: famrel, dtype: int64"
      ]
     },
     "execution_count": 616,
     "metadata": {},
     "output_type": "execute_result"
    }
   ],
   "source": [
    "# Видим, что 27 пропущенных значений признака famrel были распределены среди всех значений признака,\n",
    "# руководствуясь логикой модели DecisionTreeRegressor\n",
    "df_ordinal.famrel.value_counts(dropna=False)"
   ]
  },
  {
   "cell_type": "markdown",
   "metadata": {},
   "source": [
    "* Еще раз визуализируем обновленные признаки"
   ]
  },
  {
   "cell_type": "code",
   "execution_count": 617,
   "metadata": {},
   "outputs": [
    {
     "name": "stdout",
     "output_type": "stream",
     "text": [
      "graph for Medu\n"
     ]
    },
    {
     "data": {
      "image/png": "[encoded data removed]",
      "text/plain": [
       "<Figure size 360x216 with 1 Axes>"
      ]
     },
     "metadata": {},
     "output_type": "display_data"
    },
    {
     "name": "stdout",
     "output_type": "stream",
     "text": [
      "graph for Fedu\n"
     ]
    },
    {
     "data": {
      "image/png": "[encoded data removed]",
      "text/plain": [
       "<Figure size 360x216 with 1 Axes>"
      ]
     },
     "metadata": {},
     "output_type": "display_data"
    },
    {
     "name": "stdout",
     "output_type": "stream",
     "text": [
      "graph for traveltime\n"
     ]
    },
    {
     "data": {
      "image/png": "[encoded data removed]",
      "text/plain": [
       "<Figure size 360x216 with 1 Axes>"
      ]
     },
     "metadata": {},
     "output_type": "display_data"
    },
    {
     "name": "stdout",
     "output_type": "stream",
     "text": [
      "graph for studytime\n"
     ]
    },
    {
     "data": {
      "image/png": "[encoded data removed]",
      "text/plain": [
       "<Figure size 360x216 with 1 Axes>"
      ]
     },
     "metadata": {},
     "output_type": "display_data"
    },
    {
     "name": "stdout",
     "output_type": "stream",
     "text": [
      "graph for failures\n"
     ]
    },
    {
     "data": {
      "image/png": "[encoded data removed]",
      "text/plain": [
       "<Figure size 360x216 with 1 Axes>"
      ]
     },
     "metadata": {},
     "output_type": "display_data"
    },
    {
     "name": "stdout",
     "output_type": "stream",
     "text": [
      "graph for famrel\n"
     ]
    },
    {
     "data": {
      "image/png": "[encoded data removed]",
      "text/plain": [
       "<Figure size 360x216 with 1 Axes>"
      ]
     },
     "metadata": {},
     "output_type": "display_data"
    },
    {
     "name": "stdout",
     "output_type": "stream",
     "text": [
      "graph for freetime\n"
     ]
    },
    {
     "data": {
      "image/png": "[encoded data removed]",
      "text/plain": [
       "<Figure size 360x216 with 1 Axes>"
      ]
     },
     "metadata": {},
     "output_type": "display_data"
    },
    {
     "name": "stdout",
     "output_type": "stream",
     "text": [
      "graph for goout\n"
     ]
    },
    {
     "data": {
      "image/png": "[encoded data removed]",
      "text/plain": [
       "<Figure size 360x216 with 1 Axes>"
      ]
     },
     "metadata": {},
     "output_type": "display_data"
    },
    {
     "name": "stdout",
     "output_type": "stream",
     "text": [
      "graph for health\n"
     ]
    },
    {
     "data": {
      "image/png": "[encoded data removed]",
      "text/plain": [
       "<Figure size 360x216 with 1 Axes>"
      ]
     },
     "metadata": {},
     "output_type": "display_data"
    }
   ],
   "source": [
    "for i in df_ordinal_imp.columns:\n",
    "    ord_num = df_ordinal_imp[i].value_counts()\n",
    "    print(\"graph for %s\" % (i))\n",
    "    plt.subplots(figsize=(5,3))\n",
    "    sns.set_style(\"whitegrid\")\n",
    "    sns.barplot(x = ord_num.index, y = ord_num, ci = None, palette = \"bright\", orient = 'v')\n",
    "    plt.show()"
   ]
  },
  {
   "cell_type": "markdown",
   "metadata": {},
   "source": [
    "## Номинальные переменные (Nominal Features)"
   ]
  },
  {
   "cell_type": "code",
   "execution_count": 523,
   "metadata": {},
   "outputs": [],
   "source": [
    "# создадим датафрейм для наших номинальных переменных\n",
    "df_nominal = df.loc[:, [\"Mjob\", \"Fjob\", \"reason\", \"guardian\"]]"
   ]
  },
  {
   "cell_type": "markdown",
   "metadata": {},
   "source": [
    "* Визуализируем номинальне переменные"
   ]
  },
  {
   "cell_type": "code",
   "execution_count": 524,
   "metadata": {},
   "outputs": [
    {
     "name": "stdout",
     "output_type": "stream",
     "text": [
      "graph for Mjob\n"
     ]
    },
    {
     "data": {
      "image/png": "[encoded data removed]",
      "text/plain": [
       "<Figure size 360x216 with 1 Axes>"
      ]
     },
     "metadata": {},
     "output_type": "display_data"
    },
    {
     "name": "stdout",
     "output_type": "stream",
     "text": [
      "graph for Fjob\n"
     ]
    },
    {
     "data": {
      "image/png": "[encoded data removed]",
      "text/plain": [
       "<Figure size 360x216 with 1 Axes>"
      ]
     },
     "metadata": {},
     "output_type": "display_data"
    },
    {
     "name": "stdout",
     "output_type": "stream",
     "text": [
      "graph for reason\n"
     ]
    },
    {
     "data": {
      "image/png": "[encoded data removed]",
      "text/plain": [
       "<Figure size 360x216 with 1 Axes>"
      ]
     },
     "metadata": {},
     "output_type": "display_data"
    },
    {
     "name": "stdout",
     "output_type": "stream",
     "text": [
      "graph for guardian\n"
     ]
    },
    {
     "data": {
      "image/png": "[encoded data removed]",
      "text/plain": [
       "<Figure size 360x216 with 1 Axes>"
      ]
     },
     "metadata": {},
     "output_type": "display_data"
    }
   ],
   "source": [
    "for i in df_nominal.columns:\n",
    "    nom_num = df_nominal[i].value_counts()\n",
    "    print(\"graph for %s\" % (i))\n",
    "    plt.subplots(figsize=(5,3))\n",
    "    sns.set_style(\"whitegrid\")\n",
    "    sns.barplot(x = nom_num, y = nom_num.index, ci = None, palette = \"pastel\", orient = 'h')\n",
    "    plt.show()"
   ]
  },
  {
   "cell_type": "markdown",
   "metadata": {},
   "source": [
    "* Займемся пропусками"
   ]
  },
  {
   "cell_type": "code",
   "execution_count": 525,
   "metadata": {},
   "outputs": [
    {
     "data": {
      "text/plain": [
       "Mjob        19\n",
       "Fjob        36\n",
       "reason      17\n",
       "guardian    31\n",
       "dtype: int64"
      ]
     },
     "execution_count": 525,
     "metadata": {},
     "output_type": "execute_result"
    }
   ],
   "source": [
    "df_nominal.isnull().sum()"
   ]
  },
  {
   "cell_type": "markdown",
   "metadata": {},
   "source": [
    "* Пропуски заполним значениями переменной, взвешенными по вероятностям их появления в признаке (*value_counts(normalize=True)*)"
   ]
  },
  {
   "cell_type": "code",
   "execution_count": 526,
   "metadata": {},
   "outputs": [],
   "source": [
    "def mjob_fill(row):\n",
    "    elements = df_nominal.Mjob.value_counts().index.to_list() # возможные знач-я переменной\n",
    "    weights = df_nominal.Mjob.value_counts(normalize=True).tolist() # вероятности (веса) появления значения в признаке\n",
    "    if pd.isnull(row.Mjob):\n",
    "        return choice(elements, p=weights)\n",
    "    return row.Mjob"
   ]
  },
  {
   "cell_type": "code",
   "execution_count": 527,
   "metadata": {},
   "outputs": [],
   "source": [
    "df_nominal_imp = df_nominal.copy(deep=True)"
   ]
  },
  {
   "cell_type": "code",
   "execution_count": 528,
   "metadata": {},
   "outputs": [],
   "source": [
    "df_nominal_imp[\"Mjob\"] = df_nominal_imp.apply(mjob_fill, axis=1)"
   ]
  },
  {
   "cell_type": "code",
   "execution_count": 529,
   "metadata": {},
   "outputs": [
    {
     "data": {
      "text/plain": [
       "0"
      ]
     },
     "execution_count": 529,
     "metadata": {},
     "output_type": "execute_result"
    }
   ],
   "source": [
    "df_nominal_imp[\"Mjob\"].isna().sum()"
   ]
  },
  {
   "cell_type": "code",
   "execution_count": 530,
   "metadata": {},
   "outputs": [],
   "source": [
    "def fjob_fill(row):\n",
    "    elements = df_nominal.Fjob.value_counts().index.to_list() # возможные знач-я переменной\n",
    "    weights = df_nominal.Fjob.value_counts(normalize=True).tolist() # вероятности (веса) появления значения в признаке\n",
    "    if pd.isnull(row.Fjob):\n",
    "        return choice(elements, p=weights)\n",
    "    return row.Fjob"
   ]
  },
  {
   "cell_type": "code",
   "execution_count": 531,
   "metadata": {},
   "outputs": [],
   "source": [
    "df_nominal_imp[\"Fjob\"] = df_nominal_imp.apply(fjob_fill, axis=1)"
   ]
  },
  {
   "cell_type": "code",
   "execution_count": 532,
   "metadata": {},
   "outputs": [
    {
     "data": {
      "text/plain": [
       "0"
      ]
     },
     "execution_count": 532,
     "metadata": {},
     "output_type": "execute_result"
    }
   ],
   "source": [
    "df_nominal_imp[\"Fjob\"].isna().sum()"
   ]
  },
  {
   "cell_type": "code",
   "execution_count": 533,
   "metadata": {},
   "outputs": [],
   "source": [
    "def reason_fill(row):\n",
    "    elements = df_nominal.reason.value_counts().index.to_list()\n",
    "    weights = df_nominal.reason.value_counts(normalize=True).tolist()\n",
    "    if pd.isnull(row.reason):\n",
    "        return choice(elements, p=weights)\n",
    "    return row.reason"
   ]
  },
  {
   "cell_type": "code",
   "execution_count": 534,
   "metadata": {},
   "outputs": [],
   "source": [
    "df_nominal_imp[\"reason\"] = df_nominal_imp.apply(reason_fill, axis=1)"
   ]
  },
  {
   "cell_type": "code",
   "execution_count": 535,
   "metadata": {},
   "outputs": [
    {
     "data": {
      "text/plain": [
       "0"
      ]
     },
     "execution_count": 535,
     "metadata": {},
     "output_type": "execute_result"
    }
   ],
   "source": [
    "df_nominal_imp[\"reason\"].isna().sum()"
   ]
  },
  {
   "cell_type": "code",
   "execution_count": 536,
   "metadata": {},
   "outputs": [],
   "source": [
    "def guardian_fill(row):\n",
    "    elements = df_nominal.guardian.value_counts().index.to_list()\n",
    "    weights = df_nominal.guardian.value_counts(normalize=True).tolist()\n",
    "    if pd.isnull(row.guardian):\n",
    "        return choice(elements, p=weights)\n",
    "    return row.guardian"
   ]
  },
  {
   "cell_type": "code",
   "execution_count": 537,
   "metadata": {},
   "outputs": [],
   "source": [
    "df_nominal_imp[\"guardian\"] = df_nominal_imp.apply(guardian_fill, axis=1)"
   ]
  },
  {
   "cell_type": "code",
   "execution_count": 538,
   "metadata": {},
   "outputs": [
    {
     "data": {
      "text/plain": [
       "Mjob        0\n",
       "Fjob        0\n",
       "reason      0\n",
       "guardian    0\n",
       "dtype: int64"
      ]
     },
     "execution_count": 538,
     "metadata": {},
     "output_type": "execute_result"
    }
   ],
   "source": [
    "df_nominal_imp.isna().sum()"
   ]
  },
  {
   "cell_type": "markdown",
   "metadata": {},
   "source": [
    "* Еще раз визуализируем результаты"
   ]
  },
  {
   "cell_type": "code",
   "execution_count": 539,
   "metadata": {
    "scrolled": false
   },
   "outputs": [
    {
     "data": {
      "image/png": "[encoded data removed]",
      "text/plain": [
       "<Figure size 360x216 with 1 Axes>"
      ]
     },
     "metadata": {},
     "output_type": "display_data"
    },
    {
     "data": {
      "image/png": "[encoded data removed]",
      "text/plain": [
       "<Figure size 360x216 with 1 Axes>"
      ]
     },
     "metadata": {},
     "output_type": "display_data"
    },
    {
     "data": {
      "image/png": "[encoded data removed]",
      "text/plain": [
       "<Figure size 360x216 with 1 Axes>"
      ]
     },
     "metadata": {},
     "output_type": "display_data"
    },
    {
     "data": {
      "image/png": "[encoded data removed]",
      "text/plain": [
       "<Figure size 360x216 with 1 Axes>"
      ]
     },
     "metadata": {},
     "output_type": "display_data"
    }
   ],
   "source": [
    "for i in df_nominal_imp.columns:\n",
    "    nom_num = df_nominal_imp[i].value_counts()\n",
    "    plt.subplots(figsize=(5,3))\n",
    "    sns.set_style(\"whitegrid\")\n",
    "    sns.barplot(x = nom_num, y = nom_num.index, ci = None, palette = \"bright\", orient = 'h')\n",
    "    plt.show()"
   ]
  },
  {
   "cell_type": "markdown",
   "metadata": {},
   "source": [
    "## Числовые признаки (Numirical Features)"
   ]
  },
  {
   "cell_type": "code",
   "execution_count": 540,
   "metadata": {},
   "outputs": [],
   "source": [
    "# выделим числовые признаки в отдельный датасет\n",
    "df_num = df.loc[:, [\"age\", \"absences\"]]"
   ]
  },
  {
   "cell_type": "code",
   "execution_count": 541,
   "metadata": {},
   "outputs": [
    {
     "name": "stdout",
     "output_type": "stream",
     "text": [
      "graph for age\n"
     ]
    },
    {
     "data": {
      "image/png": "[encoded data removed]",
      "text/plain": [
       "<Figure size 360x360 with 1 Axes>"
      ]
     },
     "metadata": {},
     "output_type": "display_data"
    },
    {
     "name": "stdout",
     "output_type": "stream",
     "text": [
      "graph for absences\n"
     ]
    },
    {
     "data": {
      "image/png": "[encoded data removed]",
      "text/plain": [
       "<Figure size 360x360 with 1 Axes>"
      ]
     },
     "metadata": {},
     "output_type": "display_data"
    }
   ],
   "source": [
    "for i in df_num.columns:\n",
    "    rat_num = df_num[i]\n",
    "    print(\"graph for %s\" % (i))\n",
    "    sns.set_style(\"whitegrid\")\n",
    "    sns.displot(df_num, x = i, kde=True)\n",
    "    plt.show()"
   ]
  },
  {
   "cell_type": "markdown",
   "metadata": {},
   "source": [
    "* В признаке *absences* наблюдаем выбросы."
   ]
  },
  {
   "cell_type": "code",
   "execution_count": 542,
   "metadata": {},
   "outputs": [
    {
     "data": {
      "text/plain": [
       "<AxesSubplot:>"
      ]
     },
     "execution_count": 542,
     "metadata": {},
     "output_type": "execute_result"
    },
    {
     "data": {
      "image/png": "[encoded data removed]",
      "text/plain": [
       "<Figure size 432x288 with 1 Axes>"
      ]
     },
     "metadata": {},
     "output_type": "display_data"
    }
   ],
   "source": [
    "df_num.absences.plot(kind=\"box\")"
   ]
  },
  {
   "cell_type": "markdown",
   "metadata": {},
   "source": [
    "* Заменим два крайних выброса на медианные значения:"
   ]
  },
  {
   "cell_type": "code",
   "execution_count": 543,
   "metadata": {},
   "outputs": [],
   "source": [
    "df_num[\"absences\"] = df_num.absences.apply(lambda x: df_num[\"absences\"].median() if x > 100 else x)"
   ]
  },
  {
   "cell_type": "markdown",
   "metadata": {},
   "source": [
    "* Заменим пропуски на медианные значения:"
   ]
  },
  {
   "cell_type": "code",
   "execution_count": 544,
   "metadata": {},
   "outputs": [],
   "source": [
    "df_num[\"absences\"] = df_num.absences.fillna(df_num.absences.mean())"
   ]
  },
  {
   "cell_type": "code",
   "execution_count": 545,
   "metadata": {},
   "outputs": [
    {
     "data": {
      "text/plain": [
       "age         0\n",
       "absences    0\n",
       "dtype: int64"
      ]
     },
     "execution_count": 545,
     "metadata": {},
     "output_type": "execute_result"
    }
   ],
   "source": [
    "df_num.isna().sum()"
   ]
  },
  {
   "cell_type": "code",
   "execution_count": 546,
   "metadata": {},
   "outputs": [
    {
     "data": {
      "text/plain": [
       "<AxesSubplot:>"
      ]
     },
     "execution_count": 546,
     "metadata": {},
     "output_type": "execute_result"
    },
    {
     "data": {
      "image/png": "[encoded data removed]",
      "text/plain": [
       "<Figure size 432x288 with 1 Axes>"
      ]
     },
     "metadata": {},
     "output_type": "display_data"
    }
   ],
   "source": [
    "df_num.absences.plot(kind=\"box\")"
   ]
  },
  {
   "cell_type": "markdown",
   "metadata": {},
   "source": [
    "## Целевая переменная (Response)"
   ]
  },
  {
   "cell_type": "markdown",
   "metadata": {},
   "source": [
    "* Отдельно рассмотрим нашу целевую переменную *score*."
   ]
  },
  {
   "cell_type": "code",
   "execution_count": 547,
   "metadata": {},
   "outputs": [],
   "source": [
    "y = df.score"
   ]
  },
  {
   "cell_type": "code",
   "execution_count": 548,
   "metadata": {},
   "outputs": [
    {
     "data": {
      "text/plain": [
       "50.0     54\n",
       "55.0     46\n",
       "0.0      37\n",
       "75.0     33\n",
       "65.0     31\n",
       "40.0     31\n",
       "60.0     31\n",
       "70.0     27\n",
       "45.0     27\n",
       "80.0     16\n",
       "30.0     15\n",
       "90.0     12\n",
       "35.0      9\n",
       "25.0      7\n",
       "85.0      6\n",
       "95.0      5\n",
       "100.0     1\n",
       "20.0      1\n",
       "Name: score, dtype: int64"
      ]
     },
     "metadata": {},
     "output_type": "display_data"
    },
    {
     "name": "stdout",
     "output_type": "stream",
     "text": [
      "\n",
      "Целевая переменная 'score' принимает 18 значений\n"
     ]
    }
   ],
   "source": [
    "display(y.value_counts())\n",
    "print()\n",
    "print(f\"Целевая переменная 'score' принимает {y.nunique()} значений\")"
   ]
  },
  {
   "cell_type": "markdown",
   "metadata": {},
   "source": [
    "* Видим, что целевая переменная является категориальной величиной. Балл ученика по математике присваивается не точным значением, но имеет шаг 5. Таким образом, переменная может принимать лишь *y.max() / 5.0 = 20* значений. Применять будем модель классификации, а не регрессии."
   ]
  },
  {
   "cell_type": "markdown",
   "metadata": {},
   "source": [
    "* Изучим распределение значений признака."
   ]
  },
  {
   "cell_type": "code",
   "execution_count": 549,
   "metadata": {},
   "outputs": [
    {
     "data": {
      "text/plain": [
       "<seaborn.axisgrid.FacetGrid at 0x1cf6e3af4f0>"
      ]
     },
     "execution_count": 549,
     "metadata": {},
     "output_type": "execute_result"
    },
    {
     "data": {
      "image/png": "[encoded data removed]",
      "text/plain": [
       "<Figure size 360x360 with 1 Axes>"
      ]
     },
     "metadata": {},
     "output_type": "display_data"
    }
   ],
   "source": [
    "sns.displot(y, kde=True)"
   ]
  },
  {
   "cell_type": "markdown",
   "metadata": {},
   "source": [
    "* Распределение признака *score* можно было бы считать нормальным, если бы не аномально большое количество нулевых значений. Проверим, не лежат ли они за пределами трех стандартных отклонений (т.е. не являются ли они выбросами)"
   ]
  },
  {
   "cell_type": "code",
   "execution_count": 550,
   "metadata": {},
   "outputs": [],
   "source": [
    "y_mean, y_std = np.mean(y), np.std(y)\n",
    "cut_off = y_std * 3\n",
    "lower, upper = y_mean - cut_off, y_mean + cut_off"
   ]
  },
  {
   "cell_type": "code",
   "execution_count": 551,
   "metadata": {},
   "outputs": [],
   "source": [
    "outliers = [x for x in y if x < lower or x > upper]"
   ]
  },
  {
   "cell_type": "code",
   "execution_count": 552,
   "metadata": {},
   "outputs": [
    {
     "name": "stdout",
     "output_type": "stream",
     "text": [
      "[]\n"
     ]
    }
   ],
   "source": [
    "print(outliers)"
   ]
  },
  {
   "cell_type": "code",
   "execution_count": 553,
   "metadata": {},
   "outputs": [
    {
     "data": {
      "text/plain": [
       "<AxesSubplot:>"
      ]
     },
     "execution_count": 553,
     "metadata": {},
     "output_type": "execute_result"
    },
    {
     "data": {
      "image/png": "[encoded data removed]",
      "text/plain": [
       "<Figure size 432x288 with 1 Axes>"
      ]
     },
     "metadata": {},
     "output_type": "display_data"
    }
   ],
   "source": [
    "y.plot(kind=\"box\")"
   ]
  },
  {
   "cell_type": "markdown",
   "metadata": {},
   "source": [
    "* Нулевые значения не являются выбросами. "
   ]
  },
  {
   "cell_type": "code",
   "execution_count": 556,
   "metadata": {},
   "outputs": [
    {
     "ename": "NameError",
     "evalue": "name 'df_binary_imp' is not defined",
     "output_type": "error",
     "traceback": [
      "\u001b[1;31m---------------------------------------------------------------------------\u001b[0m",
      "\u001b[1;31mNameError\u001b[0m                                 Traceback (most recent call last)",
      "\u001b[1;32m<ipython-input-556-47806e9333b7>\u001b[0m in \u001b[0;36m<module>\u001b[1;34m\u001b[0m\n\u001b[1;32m----> 1\u001b[1;33m \u001b[0mdf_binary_imp\u001b[0m\u001b[1;33m.\u001b[0m\u001b[0mshape\u001b[0m\u001b[1;33m\u001b[0m\u001b[1;33m\u001b[0m\u001b[0m\n\u001b[0m",
      "\u001b[1;31mNameError\u001b[0m: name 'df_binary_imp' is not defined"
     ]
    }
   ],
   "source": [
    "df_binary_imp.shape"
   ]
  },
  {
   "cell_type": "code",
   "execution_count": null,
   "metadata": {},
   "outputs": [],
   "source": []
  },
  {
   "cell_type": "code",
   "execution_count": null,
   "metadata": {},
   "outputs": [],
   "source": []
  },
  {
   "cell_type": "code",
   "execution_count": null,
   "metadata": {},
   "outputs": [],
   "source": []
  },
  {
   "cell_type": "code",
   "execution_count": null,
   "metadata": {},
   "outputs": [],
   "source": []
  },
  {
   "cell_type": "code",
   "execution_count": null,
   "metadata": {},
   "outputs": [],
   "source": []
  },
  {
   "cell_type": "code",
   "execution_count": null,
   "metadata": {},
   "outputs": [],
   "source": []
  },
  {
   "cell_type": "code",
   "execution_count": null,
   "metadata": {},
   "outputs": [],
   "source": []
  },
  {
   "cell_type": "code",
   "execution_count": null,
   "metadata": {},
   "outputs": [],
   "source": []
  },
  {
   "cell_type": "code",
   "execution_count": null,
   "metadata": {},
   "outputs": [],
   "source": []
  },
  {
   "cell_type": "code",
   "execution_count": null,
   "metadata": {},
   "outputs": [],
   "source": []
  },
  {
   "cell_type": "code",
   "execution_count": null,
   "metadata": {},
   "outputs": [],
   "source": []
  },
  {
   "cell_type": "code",
   "execution_count": null,
   "metadata": {},
   "outputs": [],
   "source": []
  },
  {
   "cell_type": "code",
   "execution_count": null,
   "metadata": {},
   "outputs": [],
   "source": []
  },
  {
   "cell_type": "code",
   "execution_count": null,
   "metadata": {},
   "outputs": [],
   "source": []
  },
  {
   "cell_type": "code",
   "execution_count": null,
   "metadata": {},
   "outputs": [],
   "source": []
  },
  {
   "cell_type": "code",
   "execution_count": null,
   "metadata": {},
   "outputs": [],
   "source": []
  },
  {
   "cell_type": "code",
   "execution_count": null,
   "metadata": {},
   "outputs": [],
   "source": []
  },
  {
   "cell_type": "code",
   "execution_count": null,
   "metadata": {},
   "outputs": [],
   "source": []
  },
  {
   "cell_type": "code",
   "execution_count": null,
   "metadata": {},
   "outputs": [],
   "source": []
  },
  {
   "cell_type": "code",
   "execution_count": null,
   "metadata": {},
   "outputs": [],
   "source": []
  }
 ],
 "metadata": {
  "kernelspec": {
   "display_name": "Python 3",
   "language": "python",
   "name": "python3"
  },
  "language_info": {
   "codemirror_mode": {
    "name": "ipython",
    "version": 3
   },
   "file_extension": ".py",
   "mimetype": "text/x-python",
   "name": "python",
   "nbconvert_exporter": "python",
   "pygments_lexer": "ipython3",
   "version": "3.8.3"
  }
 },
 "nbformat": 4,
 "nbformat_minor": 4
}
